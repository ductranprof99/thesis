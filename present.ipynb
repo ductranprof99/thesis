{
 "cells": [
  {
   "cell_type": "code",
   "execution_count": null,
   "metadata": {},
   "outputs": [],
   "source": [
    "import json\n",
    "from FirstModel.a2w.audio_handler import audio_to_words,AudioToWords\n",
    "from FirstModel.a2w.micro_handler import listen_to_mic,StreamToWords\n",
    "micro = StreamToWords('./FirstModel/a2w/model')\n",
    "audio = AudioToWords('./FirstModel/a2w/model')"
   ]
  },
  {
   "cell_type": "code",
   "execution_count": null,
   "metadata": {},
   "outputs": [],
   "source": [
    "from FirstModel.sound_classifier import sound_to_emotion"
   ]
  },
  {
   "cell_type": "code",
   "execution_count": null,
   "metadata": {},
   "outputs": [],
   "source": [
    "save_audio_path = './test/test.wav'\n",
    "listen_to_mic(micro,True,save_audio_path)"
   ]
  },
  {
   "cell_type": "code",
   "execution_count": null,
   "metadata": {},
   "outputs": [],
   "source": [
    "sound_to_emotion(save_audio_path)"
   ]
  },
  {
   "cell_type": "code",
   "execution_count": null,
   "metadata": {},
   "outputs": [],
   "source": [
    "from SecondModel.runner import predict_predictor"
   ]
  },
  {
   "cell_type": "code",
   "execution_count": null,
   "metadata": {},
   "outputs": [],
   "source": []
  }
 ],
 "metadata": {
  "kernelspec": {
   "display_name": "Python 3",
   "language": "python",
   "name": "python3"
  },
  "language_info": {
   "codemirror_mode": {
    "name": "ipython",
    "version": 3
   },
   "file_extension": ".py",
   "mimetype": "text/x-python",
   "name": "python",
   "nbconvert_exporter": "python",
   "pygments_lexer": "ipython3",
   "version": "3.9.13"
  },
  "orig_nbformat": 4,
  "vscode": {
   "interpreter": {
    "hash": "c96ba7ee31979eb9a438c632eab3fb602e6944f4dfb08d88ff604105648beb03"
   }
  }
 },
 "nbformat": 4,
 "nbformat_minor": 2
}
