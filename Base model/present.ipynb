{
 "cells": [
  {
   "cell_type": "code",
   "execution_count": 1,
   "metadata": {},
   "outputs": [],
   "source": [
    "import json\n",
    "from a2w.audio_handler import audio_to_words,AudioToWords\n",
    "from a2w.micro_handler import listen_to_mic,StreamToWords\n",
    "micro = StreamToWords('./a2w/model')\n",
    "audio = AudioToWords('./a2w/model')\n"
   ]
  },
  {
   "cell_type": "code",
   "execution_count": 2,
   "metadata": {},
   "outputs": [],
   "source": [
    "from sound_classifier import sound_to_emotion\n",
    "from text_classifier import text_to_emotion"
   ]
  },
  {
   "cell_type": "code",
   "execution_count": 6,
   "metadata": {},
   "outputs": [
    {
     "name": "stdout",
     "output_type": "stream",
     "text": [
      "* recording\n",
      "* done recording\n"
     ]
    },
    {
     "data": {
      "text/plain": [
       "' allow'"
      ]
     },
     "execution_count": 6,
     "metadata": {},
     "output_type": "execute_result"
    }
   ],
   "source": [
    "save_audio_path = './test/test.wav'\n",
    "text = json.loads(listen_to_mic(micro,True,save_audio_path))['alternatives'][0]['text']\n",
    "text\n",
    "\n"
   ]
  },
  {
   "cell_type": "code",
   "execution_count": 7,
   "metadata": {},
   "outputs": [
    {
     "data": {
      "text/plain": [
       "{'angry': 1.607305e-24,\n",
       " 'calm': 1.7651782e-24,\n",
       " 'disgust': 4.089293e-20,\n",
       " 'fear': 8.1081187e-13,\n",
       " 'happy': 1.0837976e-07,\n",
       " 'neutral': 0.9999999,\n",
       " 'sad': 1.8219132e-16,\n",
       " 'suprise': 1.1499688e-25}"
      ]
     },
     "execution_count": 7,
     "metadata": {},
     "output_type": "execute_result"
    }
   ],
   "source": [
    "sound_to_emotion(save_audio_path)\n"
   ]
  },
  {
   "cell_type": "code",
   "execution_count": 8,
   "metadata": {},
   "outputs": [
    {
     "data": {
      "text/plain": [
       "{'happiness': 0.0037438867,\n",
       " 'sadness': 0.00250151,\n",
       " 'fear': 0.0009884752,\n",
       " 'anger': 0.0018217375,\n",
       " 'neutral': 0.9909444}"
      ]
     },
     "execution_count": 8,
     "metadata": {},
     "output_type": "execute_result"
    }
   ],
   "source": [
    "text_to_emotion(text)"
   ]
  }
 ],
 "metadata": {
  "interpreter": {
   "hash": "69eb92836b941e979072a76c7fcfffe5419cca933cedd02cfafbdfca1a93358c"
  },
  "kernelspec": {
   "display_name": "Python 3.9.10 64-bit",
   "language": "python",
   "name": "python3"
  },
  "language_info": {
   "codemirror_mode": {
    "name": "ipython",
    "version": 3
   },
   "file_extension": ".py",
   "mimetype": "text/x-python",
   "name": "python",
   "nbconvert_exporter": "python",
   "pygments_lexer": "ipython3",
   "version": "3.9.10"
  },
  "orig_nbformat": 4
 },
 "nbformat": 4,
 "nbformat_minor": 2
}
